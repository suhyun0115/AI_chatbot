{
 "cells": [
  {
   "cell_type": "code",
   "execution_count": 2,
   "metadata": {},
   "outputs": [],
   "source": [
    "# !pip install scipy\n",
    "# !pip install bitsandbytes==0.41.3 --force-reinstall --no-deps\n",
    "# !pip install git+https://github.com/huggingface/peft  --force-reinstall --no-deps\n",
    "# !pip install pandas\n",
    "# !pip install bitsandbytes --force-reinstall --no-deps\n",
    "# !pip install accelerate"
   ]
  },
  {
   "cell_type": "code",
   "execution_count": 2,
   "metadata": {},
   "outputs": [],
   "source": [
    "import os\n",
    "import pandas as pd\n",
    "import torch\n",
    "import transformers\n",
    "from torch.utils.data import Dataset, DataLoader\n",
    "from transformers import AutoModelForCausalLM, AutoTokenizer, AdamW, BitsAndBytesConfig\n",
    "from peft import LoraConfig, prepare_model_for_kbit_training, get_peft_model\n",
    "import tqdm"
   ]
  },
  {
   "cell_type": "code",
   "execution_count": 2,
   "metadata": {},
   "outputs": [
    {
     "name": "stderr",
     "output_type": "stream",
     "text": [
      "Special tokens have been added in the vocabulary, make sure the associated word embeddings are fine-tuned or trained.\n",
      "Loading checkpoint shards: 100%|██████████| 5/5 [00:03<00:00,  1.55it/s]\n",
      "/home/omy/anaconda3/envs/torch2llm/lib/python3.10/site-packages/torch/nn/parallel/data_parallel.py:33: UserWarning: \n",
      "    There is an imbalance between your GPUs. You may want to exclude GPU 1 which\n",
      "    has less than 75% of the memory or cores of GPU 0. You can do so by setting\n",
      "    the device_ids argument to DataParallel, or by setting the CUDA_VISIBLE_DEVICES\n",
      "    environment variable.\n",
      "  warnings.warn(imbalance_warn.format(device_ids[min_pos], device_ids[max_pos]))\n",
      "/home/omy/anaconda3/envs/torch2llm/lib/python3.10/site-packages/transformers/optimization.py:429: FutureWarning: This implementation of AdamW is deprecated and will be removed in a future version. Use the PyTorch implementation torch.optim.AdamW instead, or set `no_deprecation_warning=True` to disable this warning\n",
      "  warnings.warn(\n"
     ]
    },
    {
     "name": "stdout",
     "output_type": "stream",
     "text": [
      "Using 2 GPUs!\n"
     ]
    },
    {
     "name": "stderr",
     "output_type": "stream",
     "text": [
      "Epoch 1/2:   0%|          | 0/7430 [00:00<?, ?it/s]`use_cache=True` is incompatible with gradient checkpointing. Setting `use_cache=False`...\n",
      "/home/omy/anaconda3/envs/torch2llm/lib/python3.10/site-packages/torch/utils/checkpoint.py:460: UserWarning: torch.utils.checkpoint: please pass in use_reentrant=True or use_reentrant=False explicitly. The default value of use_reentrant will be updated to be False in the future. To maintain current behavior, pass use_reentrant=True. It is recommended that you use use_reentrant=False. Refer to docs for more details on the differences between the two variants.\n",
      "  warnings.warn(\n",
      "/home/omy/anaconda3/envs/torch2llm/lib/python3.10/site-packages/torch/nn/parallel/_functions.py:68: UserWarning: Was asked to gather along dimension 0, but all input tensors were scalars; will instead unsqueeze and return a vector.\n",
      "  warnings.warn('Was asked to gather along dimension 0, but all '\n",
      "Epoch 1/2 Loss: 1.0021: 100%|██████████| 7430/7430 [6:05:44<00:00,  2.95s/it]  \n"
     ]
    },
    {
     "name": "stdout",
     "output_type": "stream",
     "text": [
      "Epoch 1/2, Average Loss: 0.9012\n"
     ]
    },
    {
     "name": "stderr",
     "output_type": "stream",
     "text": [
      "Epoch 2/2 Loss: 0.4775: 100%|██████████| 7430/7430 [6:04:40<00:00,  2.94s/it]  \n"
     ]
    },
    {
     "name": "stdout",
     "output_type": "stream",
     "text": [
      "Epoch 2/2, Average Loss: 0.5662\n"
     ]
    }
   ],
   "source": [
    "\n",
    "# Load tokenizer\n",
    "tokenizer = AutoTokenizer.from_pretrained(\"Edentns/DataVortexS-10.7B-dpo-v1.11\")\n",
    "\n",
    "# Define BitsAndBytesConfig for quantization\n",
    "bnb_config = BitsAndBytesConfig(\n",
    "    load_in_4bit=True,  # Enable loading model in 4-bit\n",
    "    bnb_4bit_use_double_quant=True,  # Use double quantization for better accuracy\n",
    "    bnb_4bit_quant_type=\"nf4\",  # Quantization type\n",
    "    bnb_4bit_compute_dtype=torch.float16  # Compute dtype to use during quantization\n",
    ")\n",
    "\n",
    "# Load quantized model with LoRA adjustments\n",
    "model_name = \"Edentns/DataVortexS-10.7B-dpo-v1.11\"\n",
    "model = AutoModelForCausalLM.from_pretrained(\n",
    "    model_name,\n",
    "    torch_dtype=torch.float16,  # Set torch dtype as float16 for the model\n",
    "    quantization_config=bnb_config  # Apply BitsAndBytesConfig\n",
    ")\n",
    "\n",
    "# Prepare model for LoRA training\n",
    "lora_config = LoraConfig(\n",
    "    r=4,\n",
    "    lora_alpha=32,\n",
    "    target_modules=[\"q_proj\", \"k_proj\", \"v_proj\", \"o_proj\"],\n",
    "    lora_dropout=0.1,\n",
    "    bias=\"none\",\n",
    "    task_type=\"CAUSAL_LM\"\n",
    ")\n",
    "model = prepare_model_for_kbit_training(model)\n",
    "model = get_peft_model(model, lora_config)\n",
    "\n",
    "# Continue with your existing training setup...\n",
    "\n",
    "# Move model to GPU and apply DataParallel\n",
    "device = torch.device(\"cuda\" if torch.cuda.is_available() else \"cpu\")\n",
    "model.to(device)\n",
    "if torch.cuda.device_count() > 1:\n",
    "    print(f\"Using {torch.cuda.device_count()} GPUs!\")\n",
    "    model = torch.nn.DataParallel(model)\n",
    "\n",
    "# Define your dataset\n",
    "class ChatDataset(Dataset):\n",
    "    def __init__(self, tokenizer, file_path='last_df.csv'):\n",
    "        self.tokenizer = tokenizer\n",
    "        self.data = pd.read_csv(file_path)\n",
    "\n",
    "    def __len__(self):\n",
    "        return len(self.data)\n",
    "\n",
    "    def __getitem__(self, idx):\n",
    "        question = self.data.iloc[idx]['Question']\n",
    "        answer = self.data.iloc[idx]['Answer']\n",
    "        bos_token = self.tokenizer.bos_token_id\n",
    "        eos_token = self.tokenizer.eos_token_id\n",
    "        encoding = self.tokenizer.encode('<usr>' + question + '<sys>' + answer, add_special_tokens=False)\n",
    "        return torch.tensor([bos_token] + encoding + [eos_token], dtype=torch.long)\n",
    "\n",
    "# DataLoader setup\n",
    "def collate_fn(batch):\n",
    "    return torch.nn.utils.rnn.pad_sequence(batch, batch_first=True, padding_value=tokenizer.pad_token_id)\n",
    "\n",
    "# Assuming tokenizer, model, and device setup is done prior to this snippet\n",
    "dataset = ChatDataset(tokenizer)\n",
    "data_loader = DataLoader(dataset, batch_size=1, shuffle=True, collate_fn=collate_fn)\n",
    "\n",
    "optimizer = AdamW(model.parameters(), lr=3e-5)\n",
    "EPOCHS = 2\n",
    "best_loss = float('inf')\n",
    "PATIENCE = 2\n",
    "patience_counter = 0\n",
    "# Setup to save the model\n",
    "model_save_path = 'models'\n",
    "\n",
    "for epoch in range(EPOCHS):\n",
    "    model.train()\n",
    "    epoch_loss = 0\n",
    "    progress_bar = tqdm.tqdm(data_loader, desc=f\"Epoch {epoch+1}/{EPOCHS}\")\n",
    "    \n",
    "    for batch in progress_bar:\n",
    "        batch = batch.to(device)\n",
    "        labels = batch.clone()\n",
    "        \n",
    "        optimizer.zero_grad()\n",
    "        outputs = model(input_ids=batch, labels=labels)\n",
    "        loss = outputs.loss\n",
    "        loss.backward()\n",
    "        optimizer.step()\n",
    "        \n",
    "        batch_loss = loss.item()\n",
    "        epoch_loss += batch_loss\n",
    "        \n",
    "        # Optional: Update progress bar description with the current loss\n",
    "        progress_bar.set_description(f\"Epoch {epoch+1}/{EPOCHS} Loss: {batch_loss:.4f}\")\n",
    "    \n",
    "    epoch_loss /= len(data_loader)\n",
    "    print(f'Epoch {epoch+1}/{EPOCHS}, Average Loss: {epoch_loss:.4f}')\n",
    "    \n",
    "    # Early stopping check\n",
    "    if epoch_loss < best_loss:\n",
    "        best_loss = epoch_loss\n",
    "        patience_counter = 0\n",
    "        # Save the best model\n",
    "        torch.save(model.state_dict(), f\"{model_save_path}/best_model_epoch_{epoch+1}.pt\")\n",
    "    else:\n",
    "        patience_counter += 1\n",
    "    \n",
    "    if patience_counter >= PATIENCE:\n",
    "        print(\"Early stopping triggered. Training stopped.\")\n",
    "        break\n",
    "\n",
    "# Optionally, save the final model state\n",
    "torch.save(model.state_dict(), f\"{model_save_path}/final_model.pt\")"
   ]
  },
  {
   "cell_type": "code",
   "execution_count": 3,
   "metadata": {},
   "outputs": [
    {
     "name": "stderr",
     "output_type": "stream",
     "text": [
      "/home/omy/anaconda3/envs/torch2llm/lib/python3.10/site-packages/torch/utils/checkpoint.py:460: UserWarning: torch.utils.checkpoint: please pass in use_reentrant=True or use_reentrant=False explicitly. The default value of use_reentrant will be updated to be False in the future. To maintain current behavior, pass use_reentrant=True. It is recommended that you use use_reentrant=False. Refer to docs for more details on the differences between the two variants.\n",
      "  warnings.warn(\n"
     ]
    },
    {
     "data": {
      "text/plain": [
       "CausalLMOutputWithPast(loss=<generator object gather.<locals>.gather_map.<locals>.<genexpr> at 0x7fbb3144dbd0>, logits=tensor([[[ -3.3977,  -1.2176,   4.8569,  ..., -13.0163, -10.7256,  -9.8619],\n",
       "         [-12.2143,  -6.5105,   2.1810,  ...,  -8.4827, -10.9635,  -9.5268],\n",
       "         [-10.0008,  -5.6851,   1.2743,  ..., -10.9109,  -9.5614, -10.2854],\n",
       "         ...,\n",
       "         [ -8.9077,   0.4250,   5.6404,  ..., -11.9620,  -9.9592, -11.4269],\n",
       "         [-10.9127,  -2.0902,   4.9918,  ...,  -9.6915, -11.2368, -11.6481],\n",
       "         [ -5.8373,   2.7522,   8.5870,  ...,  -5.4468,  -5.1905,  -9.5737]]],\n",
       "       device='cuda:0', grad_fn=<GatherBackward>), past_key_values=None, hidden_states=None, attentions=None)"
      ]
     },
     "execution_count": 3,
     "metadata": {},
     "output_type": "execute_result"
    }
   ],
   "source": []
  },
  {
   "cell_type": "code",
   "execution_count": null,
   "metadata": {},
   "outputs": [],
   "source": []
  }
 ],
 "metadata": {
  "kernelspec": {
   "display_name": "torch2llm",
   "language": "python",
   "name": "python3"
  },
  "language_info": {
   "codemirror_mode": {
    "name": "ipython",
    "version": 3
   },
   "file_extension": ".py",
   "mimetype": "text/x-python",
   "name": "python",
   "nbconvert_exporter": "python",
   "pygments_lexer": "ipython3",
   "version": "3.1.undefined"
  }
 },
 "nbformat": 4,
 "nbformat_minor": 2
}
